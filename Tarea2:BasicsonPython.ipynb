{
  "nbformat": 4,
  "nbformat_minor": 0,
  "metadata": {
    "colab": {
      "provenance": [],
      "authorship_tag": "ABX9TyP7tOTuhCW46BZ0s48ZjWiG",
      "include_colab_link": true
    },
    "kernelspec": {
      "name": "python3",
      "display_name": "Python 3"
    },
    "language_info": {
      "name": "python"
    }
  },
  "cells": [
    {
      "cell_type": "markdown",
      "metadata": {
        "id": "view-in-github",
        "colab_type": "text"
      },
      "source": [
        "<a href=\"https://colab.research.google.com/github/eugenials/IA-Veranos-2024/blob/main/Tarea2%3ABasicsonPython.ipynb\" target=\"_parent\"><img src=\"https://colab.research.google.com/assets/colab-badge.svg\" alt=\"Open In Colab\"/></a>"
      ]
    },
    {
      "cell_type": "markdown",
      "source": [
        "**Tarea 2: Basic on Pyhton**\n",
        "\n",
        "*   Eugenia López Silva 1994028"
      ],
      "metadata": {
        "id": "nPlCYSVGLmLU"
      }
    },
    {
      "cell_type": "markdown",
      "source": [
        "1. Text Analysis Tool: Create a Python program that reads a text file and performs various analyses on its content. The program should: Count the number of words, sentences, and paragraphs. Calculate the average word length. Identify the most common words and their frequencies."
      ],
      "metadata": {
        "id": "P5aIqrl6Lq8m"
      }
    },
    {
      "cell_type": "code",
      "source": [
        "import re\n",
        "\n",
        "#Count the number of word\n",
        "def palabras(ingresa_texto):\n",
        "    palabras = re.findall(r'\\b\\w+\\b', ingresa_texto.lower())\n",
        "    return len(palabras), palabras\n",
        "\n",
        "#Count the number of sentences\n",
        "def oraciones(ingresa_texto):\n",
        "    oraciones = re.split(r'[.!?]+', ingresa_texto)\n",
        "    oraciones = [s for s in oraciones if s.strip()]\n",
        "    return len(oraciones)\n",
        "\n",
        "def parrafos(ingresa_texto):\n",
        "    parrafos = ingresa_texto.split('\\n\\n')\n",
        "    parrafos = [p for p in parrafos if p.strip()]\n",
        "    return len(parrafos)\n",
        "\n",
        "def operacion(ingresa_texto):\n",
        "    numero_palabras, palabra = palabras(ingresa_texto)\n",
        "    numero_oracion = oraciones(ingresa_texto)\n",
        "    numero_parrafo = parrafos(ingresa_texto)\n",
        "\n",
        "    print(f\"El número de palabras es de: {numero_palabras}\")\n",
        "    print(f\"El número de oraciones es de: {numero_oracion}\")\n",
        "    print(f\"el número de párrafos es de: {numero_parrafo}\")\n",
        "\n",
        "if __name__ == \"__main__\":\n",
        "    ingresa_texto = input(\"Ingrese el texto que deseas analizar: \")\n",
        "    operacion(ingresa_texto)"
      ],
      "metadata": {
        "colab": {
          "base_uri": "https://localhost:8080/"
        },
        "id": "RT097q24LqDm",
        "outputId": "c9bd4e5f-db59-407a-c9c7-560a9d9f12c4"
      },
      "execution_count": 17,
      "outputs": [
        {
          "output_type": "stream",
          "name": "stdout",
          "text": [
            "Ingrese el texto que deseas analizar: hola como estas\n",
            "El número de palabras es de: 3\n",
            "El número de oraciones es de: 1\n",
            "el número de párrafos es de: 1\n"
          ]
        }
      ]
    },
    {
      "cell_type": "markdown",
      "source": [
        "2. Hangman Game: Create a Python program that allows a user to play the game of Hangman. The program should randomly select a word from a predefined list, and the player must guess letters one at a time until they guess the word correctly or run out of attempts"
      ],
      "metadata": {
        "id": "ZkIFBYq_Lyby"
      }
    },
    {
      "cell_type": "code",
      "execution_count": 21,
      "metadata": {
        "colab": {
          "base_uri": "https://localhost:8080/"
        },
        "id": "HwdxgFqlFiEH",
        "outputId": "183d2123-059b-46a3-9e60-8794a9ab299a"
      },
      "outputs": [
        {
          "output_type": "stream",
          "name": "stdout",
          "text": [
            "Juego del ahorcado: Asignaturas relacionadas a la biomedicina :D\n",
            "_ \n",
            "_ _ \n",
            "_ _ _ \n",
            "_ _ _ _ \n",
            "_ _ _ _ _ \n",
            "_ _ _ _ _ _ \n",
            "_ _ _ _ _ _ _ \n",
            "Introduce una letra: a\n",
            "_ \n",
            "_ _ \n",
            "_ _ _ \n",
            "_ _ _ _ \n",
            "_ _ _ _ _ \n",
            "_ _ _ _ _ _ \n",
            "_ _ _ _ _ _ a\n",
            "Introduce una letra: e\n",
            "Letra incorrecta. Te quedan 9\n",
            "_ \n",
            "_ _ \n",
            "_ _ _ \n",
            "_ _ _ _ \n",
            "_ _ _ _ _ \n",
            "_ _ _ _ _ _ \n",
            "_ _ _ _ _ _ a\n",
            "Introduce una letra: q\n",
            "q\n",
            "q_ \n",
            "q_ _ \n",
            "q_ _ _ \n",
            "q_ _ _ _ \n",
            "q_ _ _ _ _ \n",
            "q_ _ _ _ _ a\n",
            "Introduce una letra: u\n",
            "q\n",
            "qu\n",
            "qu_ \n",
            "qu_ _ \n",
            "qu_ _ _ \n",
            "qu_ _ _ _ \n",
            "qu_ _ _ _ a\n",
            "Introduce una letra: i\n",
            "q\n",
            "qu\n",
            "qui\n",
            "qui_ \n",
            "qui_ i\n",
            "qui_ i_ \n",
            "qui_ i_ a\n",
            "Introduce una letra: m\n",
            "q\n",
            "qu\n",
            "qui\n",
            "quim\n",
            "quimi\n",
            "quimi_ \n",
            "quimi_ a\n",
            "Introduce una letra: i\n",
            "Letra repetida, intenta con alguna otra.. \n",
            "q\n",
            "qu\n",
            "qui\n",
            "quim\n",
            "quimi\n",
            "quimi_ \n",
            "quimi_ a\n",
            "Introduce una letra: c\n",
            "¡Felicidades, adivinaste la palabra!\n"
          ]
        }
      ],
      "source": [
        "\n",
        "import random\n",
        "\n",
        "def seleccion_palabra_aleatoria():\n",
        "  palabras = ['fisiologia', 'microbiologia', 'anatomia', 'quimica', 'biologia']  # Lista de palabras con las que se jugará\n",
        "  palabra_aleatoria = random.choice(palabras)  # Palabra de la lista aleatoriamente\n",
        "  return palabra_aleatoria\n",
        "\n",
        "\n",
        "# Diseño para el juego: renglones representando cada letra de la palabra\n",
        "\n",
        "def mostrar_tablero(palabra, letras_adivinadas):\n",
        "   tablero = \"\"\n",
        "   for letra in palabra:\n",
        "        if letra in letras_adivinadas:\n",
        "            tablero += letra\n",
        "        else:\n",
        "            tablero += \"_ \"\n",
        "        print(tablero)\n",
        "\n",
        "def ahorcado():\n",
        "    print(\"Juego del ahorcado: Asignaturas relacionadas a la biomedicina :D\")\n",
        "    palabra = seleccion_palabra_aleatoria()\n",
        "    letras_adivinadas = []\n",
        "    intentos_restantes = 10\n",
        "\n",
        "\n",
        "    while intentos_restantes > 0:\n",
        "      mostrar_tablero(palabra, letras_adivinadas)\n",
        "      letra=input(\"Introduce una letra: \").lower()\n",
        "\n",
        "      if letra in letras_adivinadas:\n",
        "        print(\"Letra repetida, intenta con alguna otra.. \")\n",
        "        continue\n",
        "\n",
        "      if letra in palabra:\n",
        "        letras_adivinadas.append(letra)\n",
        "        if set(letras_adivinadas) == set(palabra):\n",
        "          print(\"¡Felicidades, adivinaste la palabra!\")\n",
        "          break\n",
        "\n",
        "      else:\n",
        "        intentos_restantes -= 1\n",
        "        print(f\"Letra incorrecta. Te quedan {intentos_restantes}\")\n",
        "        if intentos_restantes == 0:\n",
        "          print(\"Terminaron los intentos, la palabra correcta era:\", palabra)\n",
        "\n",
        "\n",
        "# Iniciar el juego\n",
        "ahorcado()"
      ]
    },
    {
      "cell_type": "markdown",
      "source": [
        "3. Number Guessing Game: Create a program that generates a random number between 1 and 100,\n",
        "and then asks the user to guess the number. The program should provide hints to the user if\n",
        "the guessed number is greater or less than the target number, and keep asking for a new guess\n",
        "until the user guesses correctly.\n"
      ],
      "metadata": {
        "id": "Us_g4pGcLdSr"
      }
    },
    {
      "cell_type": "code",
      "source": [
        "import random\n",
        "\n",
        "def numero():\n",
        "    numero_real = random.randint(1, 100)\n",
        "    num_adivinado = False\n",
        "\n",
        "    print(\"Bienvenido: en este juego deberas adivinar en el numero que estoy pensando, el cual puede estar entre el 1 y el 100\")\n",
        "\n",
        "    while not num_adivinado:\n",
        "        try:\n",
        "            numero_pensado = int(input(\"\\nEscribe aqui el numero que crees que sea: \"))\n",
        "            if numero_pensado < 1 or numero_pensado > 100:\n",
        "                print(\"\\nEscribe un número entre 1 y 100.\")\n",
        "                continue\n",
        "        except ValueError:\n",
        "            print(\"\\nIngresa un numero valido\")\n",
        "            continue\n",
        "\n",
        "        if numero_pensado < numero_real:\n",
        "            print(\"\\nEl número que pienso es mayor.\")\n",
        "        elif numero_pensado > numero_real:\n",
        "            print(\"\\nEl número que pienso es menor.\")\n",
        "        else:\n",
        "            print(f\"\\n¡Felicidades! Adivinaste el número: {numero_real}.\")\n",
        "            num_adivinado = True\n",
        "\n",
        "numero()"
      ],
      "metadata": {
        "colab": {
          "base_uri": "https://localhost:8080/"
        },
        "id": "I94I8Ns-Lhka",
        "outputId": "c6830e01-bd09-41af-decf-1342d2579289"
      },
      "execution_count": 20,
      "outputs": [
        {
          "output_type": "stream",
          "name": "stdout",
          "text": [
            "Bienvenido: en este juego deberas adivinar en el numero que estoy pensando, el cual puede estar entre el 1 y el 100\n",
            "\n",
            "Escribe aqui el numero que crees que sea: 80\n",
            "\n",
            "El número que pienso es menor.\n",
            "\n",
            "Escribe aqui el numero que crees que sea: 50\n",
            "\n",
            "El número que pienso es mayor.\n",
            "\n",
            "Escribe aqui el numero que crees que sea: 60\n",
            "\n",
            "El número que pienso es mayor.\n",
            "\n",
            "Escribe aqui el numero que crees que sea: 70\n",
            "\n",
            "El número que pienso es mayor.\n",
            "\n",
            "Escribe aqui el numero que crees que sea: 75\n",
            "\n",
            "El número que pienso es menor.\n",
            "\n",
            "Escribe aqui el numero que crees que sea: 73\n",
            "\n",
            "¡Felicidades! Adivinaste el número: 73.\n"
          ]
        }
      ]
    }
  ]
}