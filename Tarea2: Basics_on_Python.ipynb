{
  "nbformat": 4,
  "nbformat_minor": 0,
  "metadata": {
    "colab": {
      "provenance": [],
      "authorship_tag": "ABX9TyP7tOTuhCW46BZ0s48ZjWiG",
      "include_colab_link": true
    },
    "kernelspec": {
      "name": "python3",
      "display_name": "Python 3"
    },
    "language_info": {
      "name": "python"
    }
  },
  "cells": [
    {
      "cell_type": "markdown",
      "metadata": {
        "id": "view-in-github",
        "colab_type": "text"
      },
      "source": [
        "<a href=\"https://colab.research.google.com/github/eugenials/IA-Veranos-2024/blob/main/Tarea2%3A%20Basics_on_Python.ipynb\" target=\"_parent\"><img src=\"https://colab.research.google.com/assets/colab-badge.svg\" alt=\"Open In Colab\"/></a>"
      ]
    },
    {
      "cell_type": "markdown",
      "source": [
        "**Tarea 2: Basic on Pyhton**\n",
        "\n",
        "*   Eugenia López Silva 1994028"
      ],
      "metadata": {
        "id": "nPlCYSVGLmLU"
      }
    },
    {
      "cell_type": "markdown",
      "source": [
        "1. Text Analysis Tool: Create a Python program that reads a text file and performs various analyses on its content. The program should: Count the number of words, sentences, and paragraphs. Calculate the average word length. Identify the most common words and their frequencies."
      ],
      "metadata": {
        "id": "P5aIqrl6Lq8m"
      }
    },
    {
      "cell_type": "code",
      "source": [
        "import re\n",
        "\n",
        "#Count the number of word\n",
        "def palabras(ingresa_texto):\n",
        "    palabras = re.findall(r'\\b\\w+\\b', ingresa_texto.lower())\n",
        "    return len(palabras), palabras\n",
        "\n",
        "#Count the number of sentences\n",
        "def oraciones(ingresa_texto):\n",
        "    oraciones = re.split(r'[.!?]+', ingresa_texto)\n",
        "    oraciones = [s for s in oraciones if s.strip()]\n",
        "    return len(oraciones)\n",
        "\n",
        "def parrafos(ingresa_texto):\n",
        "    parrafos = ingresa_texto.split('\\n\\n')\n",
        "    parrafos = [p for p in parrafos if p.strip()]\n",
        "    return len(parrafos)\n",
        "\n",
        "def operacion(ingresa_texto):\n",
        "    numero_palabras, palabra = palabras(ingresa_texto)\n",
        "    numero_oracion = oraciones(ingresa_texto)\n",
        "    numero_parrafo = parrafos(ingresa_texto)\n",
        "\n",
        "    print(f\"El número de palabras es de: {numero_palabras}\")\n",
        "    print(f\"El número de oraciones es de: {numero_oracion}\")\n",
        "    print(f\"el número de párrafos es de: {numero_parrafo}\")\n",
        "\n",
        "if __name__ == \"__main__\":\n",
        "    ingresa_texto = input(\"Ingrese el texto que deseas analizar: \")\n",
        "    operacion(ingresa_texto)"
      ],
      "metadata": {
        "colab": {
          "base_uri": "https://localhost:8080/"
        },
        "id": "RT097q24LqDm",
        "outputId": "c9bd4e5f-db59-407a-c9c7-560a9d9f12c4"
      },
      "execution_count": 17,
      "outputs": [
        {
          "output_type": "stream",
          "name": "stdout",
          "text": [
            "Ingrese el texto que deseas analizar: hola como estas\n",
            "El número de palabras es de: 3\n",
            "El número de oraciones es de: 1\n",
            "el número de párrafos es de: 1\n"
          ]
        }
      ]
    },
    {
      "cell_type": "markdown",
      "source": [
        "2. Hangman Game: Create a Python program that allows a user to play the game of Hangman. The program should randomly select a word from a predefined list, and the player must guess letters one at a time until they guess the word correctly or run out of attempts"
      ],
      "metadata": {
        "id": "ZkIFBYq_Lyby"
      }
    },
    {
      "cell_type": "code",
      "execution_count": 19,
      "metadata": {
        "colab": {
          "base_uri": "https://localhost:8080/",
          "height": 1000
        },
        "id": "HwdxgFqlFiEH",
        "outputId": "2b550aa5-e936-4bd5-8a7f-f0f7a4067c12"
      },
      "outputs": [
        {
          "output_type": "stream",
          "name": "stdout",
          "text": [
            "Juego del ahorcado: Asignaturas relacionadas a la biomedicina :D\n",
            "_ \n",
            "_ _ \n",
            "_ _ _ \n",
            "_ _ _ _ \n",
            "_ _ _ _ _ \n",
            "_ _ _ _ _ _ \n",
            "_ _ _ _ _ _ _ \n",
            "Introduce una letra: a\n",
            "_ \n",
            "_ _ \n",
            "_ _ _ \n",
            "_ _ _ _ \n",
            "_ _ _ _ _ \n",
            "_ _ _ _ _ _ \n",
            "_ _ _ _ _ _ a\n",
            "Introduce una letra: e\n",
            "Letra incorrecta. Te quedan 9\n",
            "_ \n",
            "_ _ \n",
            "_ _ _ \n",
            "_ _ _ _ \n",
            "_ _ _ _ _ \n",
            "_ _ _ _ _ _ \n",
            "_ _ _ _ _ _ a\n",
            "Introduce una letra: i\n",
            "_ \n",
            "_ _ \n",
            "_ _ i\n",
            "_ _ i_ \n",
            "_ _ i_ i\n",
            "_ _ i_ i_ \n",
            "_ _ i_ i_ a\n",
            "Introduce una letra: f\n",
            "Letra incorrecta. Te quedan 8\n",
            "_ \n",
            "_ _ \n",
            "_ _ i\n",
            "_ _ i_ \n",
            "_ _ i_ i\n",
            "_ _ i_ i_ \n",
            "_ _ i_ i_ a\n",
            "Introduce una letra: f\n",
            "Letra incorrecta. Te quedan 7\n",
            "_ \n",
            "_ _ \n",
            "_ _ i\n",
            "_ _ i_ \n",
            "_ _ i_ i\n",
            "_ _ i_ i_ \n",
            "_ _ i_ i_ a\n",
            "Introduce una letra: f\n",
            "Letra incorrecta. Te quedan 6\n",
            "_ \n",
            "_ _ \n",
            "_ _ i\n",
            "_ _ i_ \n",
            "_ _ i_ i\n",
            "_ _ i_ i_ \n",
            "_ _ i_ i_ a\n"
          ]
        },
        {
          "output_type": "error",
          "ename": "KeyboardInterrupt",
          "evalue": "Interrupted by user",
          "traceback": [
            "\u001b[0;31m---------------------------------------------------------------------------\u001b[0m",
            "\u001b[0;31mKeyboardInterrupt\u001b[0m                         Traceback (most recent call last)",
            "\u001b[0;32m<ipython-input-19-d51e8f3261fc>\u001b[0m in \u001b[0;36m<cell line: 49>\u001b[0;34m()\u001b[0m\n\u001b[1;32m     47\u001b[0m \u001b[0;34m\u001b[0m\u001b[0m\n\u001b[1;32m     48\u001b[0m \u001b[0;31m# Iniciar el juego\u001b[0m\u001b[0;34m\u001b[0m\u001b[0;34m\u001b[0m\u001b[0m\n\u001b[0;32m---> 49\u001b[0;31m \u001b[0mahorcado\u001b[0m\u001b[0;34m(\u001b[0m\u001b[0;34m)\u001b[0m\u001b[0;34m\u001b[0m\u001b[0;34m\u001b[0m\u001b[0m\n\u001b[0m",
            "\u001b[0;32m<ipython-input-19-d51e8f3261fc>\u001b[0m in \u001b[0;36mahorcado\u001b[0;34m()\u001b[0m\n\u001b[1;32m     27\u001b[0m     \u001b[0;32mwhile\u001b[0m \u001b[0mintentos_restantes\u001b[0m \u001b[0;34m>\u001b[0m \u001b[0;36m0\u001b[0m\u001b[0;34m:\u001b[0m\u001b[0;34m\u001b[0m\u001b[0;34m\u001b[0m\u001b[0m\n\u001b[1;32m     28\u001b[0m       \u001b[0mmostrar_tablero\u001b[0m\u001b[0;34m(\u001b[0m\u001b[0mpalabra\u001b[0m\u001b[0;34m,\u001b[0m \u001b[0mletras_adivinadas\u001b[0m\u001b[0;34m)\u001b[0m\u001b[0;34m\u001b[0m\u001b[0;34m\u001b[0m\u001b[0m\n\u001b[0;32m---> 29\u001b[0;31m       \u001b[0mletra\u001b[0m\u001b[0;34m=\u001b[0m\u001b[0minput\u001b[0m\u001b[0;34m(\u001b[0m\u001b[0;34m\"Introduce una letra: \"\u001b[0m\u001b[0;34m)\u001b[0m\u001b[0;34m.\u001b[0m\u001b[0mlower\u001b[0m\u001b[0;34m(\u001b[0m\u001b[0;34m)\u001b[0m\u001b[0;34m\u001b[0m\u001b[0;34m\u001b[0m\u001b[0m\n\u001b[0m\u001b[1;32m     30\u001b[0m \u001b[0;34m\u001b[0m\u001b[0m\n\u001b[1;32m     31\u001b[0m       \u001b[0;32mif\u001b[0m \u001b[0mletra\u001b[0m \u001b[0;32min\u001b[0m \u001b[0mletras_adivinadas\u001b[0m\u001b[0;34m:\u001b[0m\u001b[0;34m\u001b[0m\u001b[0;34m\u001b[0m\u001b[0m\n",
            "\u001b[0;32m/usr/local/lib/python3.10/dist-packages/ipykernel/kernelbase.py\u001b[0m in \u001b[0;36mraw_input\u001b[0;34m(self, prompt)\u001b[0m\n\u001b[1;32m    849\u001b[0m                 \u001b[0;34m\"raw_input was called, but this frontend does not support input requests.\"\u001b[0m\u001b[0;34m\u001b[0m\u001b[0;34m\u001b[0m\u001b[0m\n\u001b[1;32m    850\u001b[0m             )\n\u001b[0;32m--> 851\u001b[0;31m         return self._input_request(str(prompt),\n\u001b[0m\u001b[1;32m    852\u001b[0m             \u001b[0mself\u001b[0m\u001b[0;34m.\u001b[0m\u001b[0m_parent_ident\u001b[0m\u001b[0;34m,\u001b[0m\u001b[0;34m\u001b[0m\u001b[0;34m\u001b[0m\u001b[0m\n\u001b[1;32m    853\u001b[0m             \u001b[0mself\u001b[0m\u001b[0;34m.\u001b[0m\u001b[0m_parent_header\u001b[0m\u001b[0;34m,\u001b[0m\u001b[0;34m\u001b[0m\u001b[0;34m\u001b[0m\u001b[0m\n",
            "\u001b[0;32m/usr/local/lib/python3.10/dist-packages/ipykernel/kernelbase.py\u001b[0m in \u001b[0;36m_input_request\u001b[0;34m(self, prompt, ident, parent, password)\u001b[0m\n\u001b[1;32m    893\u001b[0m             \u001b[0;32mexcept\u001b[0m \u001b[0mKeyboardInterrupt\u001b[0m\u001b[0;34m:\u001b[0m\u001b[0;34m\u001b[0m\u001b[0;34m\u001b[0m\u001b[0m\n\u001b[1;32m    894\u001b[0m                 \u001b[0;31m# re-raise KeyboardInterrupt, to truncate traceback\u001b[0m\u001b[0;34m\u001b[0m\u001b[0;34m\u001b[0m\u001b[0m\n\u001b[0;32m--> 895\u001b[0;31m                 \u001b[0;32mraise\u001b[0m \u001b[0mKeyboardInterrupt\u001b[0m\u001b[0;34m(\u001b[0m\u001b[0;34m\"Interrupted by user\"\u001b[0m\u001b[0;34m)\u001b[0m \u001b[0;32mfrom\u001b[0m \u001b[0;32mNone\u001b[0m\u001b[0;34m\u001b[0m\u001b[0;34m\u001b[0m\u001b[0m\n\u001b[0m\u001b[1;32m    896\u001b[0m             \u001b[0;32mexcept\u001b[0m \u001b[0mException\u001b[0m \u001b[0;32mas\u001b[0m \u001b[0me\u001b[0m\u001b[0;34m:\u001b[0m\u001b[0;34m\u001b[0m\u001b[0;34m\u001b[0m\u001b[0m\n\u001b[1;32m    897\u001b[0m                 \u001b[0mself\u001b[0m\u001b[0;34m.\u001b[0m\u001b[0mlog\u001b[0m\u001b[0;34m.\u001b[0m\u001b[0mwarning\u001b[0m\u001b[0;34m(\u001b[0m\u001b[0;34m\"Invalid Message:\"\u001b[0m\u001b[0;34m,\u001b[0m \u001b[0mexc_info\u001b[0m\u001b[0;34m=\u001b[0m\u001b[0;32mTrue\u001b[0m\u001b[0;34m)\u001b[0m\u001b[0;34m\u001b[0m\u001b[0;34m\u001b[0m\u001b[0m\n",
            "\u001b[0;31mKeyboardInterrupt\u001b[0m: Interrupted by user"
          ]
        }
      ],
      "source": [
        "\n",
        "import random\n",
        "\n",
        "def seleccion_palabra_aleatoria():\n",
        "  palabras = ['fisiologia', 'microbiologia', 'anatomia', 'quimica', 'biologia']  # Lista de palabras con las que se jugará\n",
        "  palabra_aleatoria = random.choice(palabras)  # Palabra de la lista aleatoriamente\n",
        "  return palabra_aleatoria\n",
        "\n",
        "\n",
        "# Diseño para el juego: renglones representando cada letra de la palabra\n",
        "\n",
        "def mostrar_tablero(palabra, letras_adivinadas):\n",
        "   tablero = \"\"\n",
        "   for letra in palabra:\n",
        "        if letra in letras_adivinadas:\n",
        "            tablero += letra\n",
        "        else:\n",
        "            tablero += \"_ \"\n",
        "        print(tablero)\n",
        "\n",
        "def ahorcado():\n",
        "    print(\"Juego del ahorcado: Asignaturas relacionadas a la biomedicina :D\")\n",
        "    palabra = seleccion_palabra_aleatoria()\n",
        "    letras_adivinadas = []\n",
        "    intentos_restantes = 10\n",
        "\n",
        "\n",
        "    while intentos_restantes > 0:\n",
        "      mostrar_tablero(palabra, letras_adivinadas)\n",
        "      letra=input(\"Introduce una letra: \").lower()\n",
        "\n",
        "      if letra in letras_adivinadas:\n",
        "        print(\"Letra repetida, intenta con alguna otra.. \")\n",
        "        continue\n",
        "\n",
        "      if letra in palabra:\n",
        "        letras_adivinadas.append(letra)\n",
        "        if set(letras_adivinadas) == set(palabra):\n",
        "          print(\"¡Felicidades, adivinaste la palabra!\")\n",
        "          break\n",
        "\n",
        "      else:\n",
        "        intentos_restantes -= 1\n",
        "        print(f\"Letra incorrecta. Te quedan {intentos_restantes}\")\n",
        "        if intentos_restantes == 0:\n",
        "          print(\"Terminaron los intentos, la palabra correcta era:\", palabra)\n",
        "\n",
        "\n",
        "# Iniciar el juego\n",
        "ahorcado()"
      ]
    },
    {
      "cell_type": "markdown",
      "source": [
        "3. Number Guessing Game: Create a program that generates a random number between 1 and 100,\n",
        "and then asks the user to guess the number. The program should provide hints to the user if\n",
        "the guessed number is greater or less than the target number, and keep asking for a new guess\n",
        "until the user guesses correctly.\n"
      ],
      "metadata": {
        "id": "Us_g4pGcLdSr"
      }
    },
    {
      "cell_type": "code",
      "source": [
        "import random\n",
        "\n",
        "def numero():\n",
        "    numero_real = random.randint(1, 100)\n",
        "    num_adivinado = False\n",
        "\n",
        "    print(\"Bienvenido: en este juego deberas adivinar en el numero que estoy pensando, el cual puede estar entre el 1 y el 100\")\n",
        "\n",
        "    while not num_adivinado:\n",
        "        try:\n",
        "            numero_pensado = int(input(\"\\nEscribe aqui el numero que crees que sea: \"))\n",
        "            if numero_pensado < 1 or numero_pensado > 100:\n",
        "                print(\"\\nEscribe un número entre 1 y 100.\")\n",
        "                continue\n",
        "        except ValueError:\n",
        "            print(\"\\nIngresa un numero valido\")\n",
        "            continue\n",
        "\n",
        "        if numero_pensado < numero_real:\n",
        "            print(\"\\nEl número que pienso es mayor.\")\n",
        "        elif numero_pensado > numero_real:\n",
        "            print(\"\\nEl número que pienso es menor.\")\n",
        "        else:\n",
        "            print(f\"\\n¡Felicidades! Adivinaste el número: {numero_real}.\")\n",
        "            num_adivinado = True\n",
        "\n",
        "numero()"
      ],
      "metadata": {
        "colab": {
          "base_uri": "https://localhost:8080/"
        },
        "id": "I94I8Ns-Lhka",
        "outputId": "c6830e01-bd09-41af-decf-1342d2579289"
      },
      "execution_count": 20,
      "outputs": [
        {
          "output_type": "stream",
          "name": "stdout",
          "text": [
            "Bienvenido: en este juego deberas adivinar en el numero que estoy pensando, el cual puede estar entre el 1 y el 100\n",
            "\n",
            "Escribe aqui el numero que crees que sea: 80\n",
            "\n",
            "El número que pienso es menor.\n",
            "\n",
            "Escribe aqui el numero que crees que sea: 50\n",
            "\n",
            "El número que pienso es mayor.\n",
            "\n",
            "Escribe aqui el numero que crees que sea: 60\n",
            "\n",
            "El número que pienso es mayor.\n",
            "\n",
            "Escribe aqui el numero que crees que sea: 70\n",
            "\n",
            "El número que pienso es mayor.\n",
            "\n",
            "Escribe aqui el numero que crees que sea: 75\n",
            "\n",
            "El número que pienso es menor.\n",
            "\n",
            "Escribe aqui el numero que crees que sea: 73\n",
            "\n",
            "¡Felicidades! Adivinaste el número: 73.\n"
          ]
        }
      ]
    }
  ]
}